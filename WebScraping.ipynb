{
 "cells": [
  {
   "cell_type": "code",
   "execution_count": 1,
   "id": "52dde55f",
   "metadata": {},
   "outputs": [],
   "source": [
    "import pandas as pd\n",
    "from selenium.webdriver.chrome.service import Service\n",
    "from webdriver_manager.chrome import ChromeDriverManager\n",
    "from selenium import webdriver\n",
    "import time"
   ]
  },
  {
   "cell_type": "code",
   "execution_count": 2,
   "id": "dcf4bb50",
   "metadata": {},
   "outputs": [
    {
     "name": "stderr",
     "output_type": "stream",
     "text": [
      "[WDM] - Downloading: 100%|██████████| 6.78M/6.78M [00:01<00:00, 6.85MB/s]\n"
     ]
    }
   ],
   "source": [
    "driver = webdriver.Chrome(service=Service(ChromeDriverManager().install()))"
   ]
  },
  {
   "cell_type": "code",
   "execution_count": 3,
   "id": "aa79c9bc",
   "metadata": {},
   "outputs": [],
   "source": [
    "url = 'https://www.etf.com/etfanalytics/etf-finder'\n",
    "\n",
    "driver.get(url)"
   ]
  },
  {
   "cell_type": "code",
   "execution_count": 5,
   "id": "d8ddfc87",
   "metadata": {},
   "outputs": [],
   "source": [
    "#Processo de dados\n",
    "#*Abrir o site\n",
    "#*Mudar a visualização pra 100\n",
    "#*Ler a tabela\n",
    "#*Avançar todas as paginas\n",
    "#*Trocar pra outras categorias\n",
    "#*Ler todas as tabelas dessa outra categoria"
   ]
  },
  {
   "cell_type": "code",
   "execution_count": 6,
   "id": "f7c7079d",
   "metadata": {},
   "outputs": [],
   "source": [
    "time.sleep(5)\n",
    "botao_100 = driver.find_element('xpath', '''/html/body/div[5]/section/div/div[3]/section/div/div/div/div/div[2]\n",
    "                            /section[2]/div[2]/section[2]/div[1]/div/div[4]/button/label/span''')\n",
    "\n",
    "driver.execute_script('arguments[0].click();', botao_100)"
   ]
  },
  {
   "cell_type": "code",
   "execution_count": 7,
   "id": "c5b338d8",
   "metadata": {},
   "outputs": [],
   "source": [
    "numero_paginas = driver.find_element('xpath', '''/html/body/div[5]/section/div/div[3]/section/div/div/div/div/div[2]\n",
    "                                    /section[2]/div[2]/section[2]/div[2]/div/label[2]''')\n",
    "\n",
    "numero_paginas = numero_paginas.text.replace('of ', '')\n",
    "numero_paginas = int(numero_paginas)"
   ]
  },
  {
   "cell_type": "code",
   "execution_count": 8,
   "id": "caf4be9b",
   "metadata": {},
   "outputs": [],
   "source": [
    "Lista_de_tabelas = []\n",
    "\n",
    "for pagina in range(0, numero_paginas):\n",
    "    tabela = driver.find_element('xpath', '''/html/body/div[5]/section/div/div[3]/section\n",
    "                                /div/div/div/div/div[2]/section[2]/div[2]/div/table''')\n",
    "   #Traz todo o HTML\n",
    "    html_tabela = tabela.get_attribute('outerHTML')\n",
    "    #pd read o pandas le todo o html e transforma em df precisamos colocar o [0] para formatar no final\n",
    "    tabela_final = pd.read_html(html_tabela)[0]\n",
    "    Lista_de_tabelas.append(tabela_final)\n",
    "    botao_avancar_pagina = driver.find_element('xpath', '''/html/body/div[5]/section/div/div[3]/section/div/div/div\n",
    "                                                /div/div[2]/section[2]/div[2]/section[2]/div[2]/div/span[2]''')\n",
    "    driver.execute_script(\"arguments[0].click()\", botao_avancar_pagina)\n",
    "base_de_dados_completa = pd.concat(Lista_de_tabelas) \n",
    "#display(base_de_dados_completa)"
   ]
  },
  {
   "cell_type": "code",
   "execution_count": 9,
   "id": "43b9dd65",
   "metadata": {},
   "outputs": [],
   "source": [
    "botao_aba = driver.find_element('xpath', '''/html/body/div[5]/section/div\n",
    "                                /div[3]/section/div/div/div/div/div[2]/section[2]/div[2]/ul/li[2]/span''')\n",
    "\n",
    "driver.execute_script(\"arguments[0].click()\", botao_aba)\n",
    "\n",
    "for pagina in range(0, numero_paginas):\n",
    "    botao_voltar_pagina = driver.find_element('xpath', '''/html/body/div[5]/section/div/div[3]/section/div/div/div/div/div[2]/section[2]/div[2]/section[2]/div[2]/div/span[1]''')\n",
    "    driver.execute_script(\"arguments[0].click()\", botao_voltar_pagina)"
   ]
  },
  {
   "cell_type": "code",
   "execution_count": 10,
   "id": "97fbe673",
   "metadata": {},
   "outputs": [],
   "source": [
    "Lista_de_tabelas = []\n",
    "\n",
    "for pagina in range(0, numero_paginas):\n",
    "    tabela = driver.find_element('xpath', '''/html/body/div[5]/section/div/div[3]/section\n",
    "                                /div/div/div/div/div[2]/section[2]/div[2]/div/table''')\n",
    "   #Traz todo o HTML\n",
    "    html_tabela = tabela.get_attribute('outerHTML')\n",
    "    #pd read o pandas le todo o html e transforma em df precisamos colocar o [0] para formatar no final\n",
    "    tabela_final = pd.read_html(html_tabela)[0]\n",
    "    Lista_de_tabelas.append(tabela_final)\n",
    "    botao_avancar_pagina = driver.find_element('xpath', '''/html/body/div[5]/section/div/div[3]/section/div/div/div\n",
    "                                                /div/div[2]/section[2]/div[2]/section[2]/div[2]/div/span[2]''')\n",
    "    driver.execute_script(\"arguments[0].click()\", botao_avancar_pagina)\n",
    "base_de_dados_performance = pd.concat(Lista_de_tabelas) \n",
    "#display(base_de_dados_performance)"
   ]
  },
  {
   "cell_type": "code",
   "execution_count": 11,
   "id": "037e60f1",
   "metadata": {},
   "outputs": [],
   "source": [
    "base_de_dados_completa = base_de_dados_completa.set_index('Ticker')\n",
    "\n",
    "#base_de_dados_completa"
   ]
  },
  {
   "cell_type": "code",
   "execution_count": 12,
   "id": "7dace539",
   "metadata": {},
   "outputs": [],
   "source": [
    "base_de_dados_performance = base_de_dados_performance.set_index('Ticker')\n",
    "base_de_dados_performance = base_de_dados_performance[['1 Year', '5 Years', '10 Years']]\n",
    "#base_de_dados_performance"
   ]
  },
  {
   "cell_type": "code",
   "execution_count": 13,
   "id": "6d3f9cd9",
   "metadata": {},
   "outputs": [],
   "source": [
    "base_de_dados_performance = base_de_dados_performance[['1 Year', '5 Years', '10 Years']]\n",
    "#base_de_dados_performance"
   ]
  },
  {
   "cell_type": "code",
   "execution_count": 14,
   "id": "e4c590b9",
   "metadata": {},
   "outputs": [],
   "source": [
    "#join ele da a base de dados completa quando tem o mesmo indece EX os Tickers sao iguais\n",
    "base_de_dados_final = base_de_dados_completa.join(base_de_dados_performance)"
   ]
  },
  {
   "cell_type": "code",
   "execution_count": 15,
   "id": "78f93933",
   "metadata": {},
   "outputs": [],
   "source": [
    "#base_de_dados_final"
   ]
  },
  {
   "cell_type": "code",
   "execution_count": null,
   "id": "d557019f",
   "metadata": {},
   "outputs": [],
   "source": []
  }
 ],
 "metadata": {
  "kernelspec": {
   "display_name": "Python 3 (ipykernel)",
   "language": "python",
   "name": "python3"
  },
  "language_info": {
   "codemirror_mode": {
    "name": "ipython",
    "version": 3
   },
   "file_extension": ".py",
   "mimetype": "text/x-python",
   "name": "python",
   "nbconvert_exporter": "python",
   "pygments_lexer": "ipython3",
   "version": "3.9.13"
  }
 },
 "nbformat": 4,
 "nbformat_minor": 5
}
